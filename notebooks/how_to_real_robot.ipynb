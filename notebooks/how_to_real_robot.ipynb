{
 "cells": [
  {
   "cell_type": "markdown",
   "metadata": {},
   "source": [
    "# Instrucciones para usar el robot real\n",
    "\n",
    "Cómo usar el robot real de manera remota y qué sensores tiene.\n",
    "\n",
    "**Autor:** _Ing. Emiliano J. Borghi Orué_ (eborghiorue@frba.utn.edu.ar) \n"
   ]
  },
  {
   "cell_type": "markdown",
   "execution_count": null,
   "metadata": {},
   "outputs": [],
   "source": [
    "## Información general\n",
    "\n",
    "iRobot Create 2 es un robot del tipo diferencial.\n",
    "\n",
    "### Robot diferencial\n",
    "\n",
    "<img src=\"media/diff-drive.png\" />\n",
    "\n",
    "#### Eq. cinemáticas\n",
    "\n",
    "\\begin{align}\n",
    "\n",
    "V_{R} = \\omega \\cdot ( R + \\frac{L}{2} ) \\\\\n",
    "V_{L} = \\omega \\cdot ( R - \\frac{L}{2} )\n",
    "\n",
    "\\\\\\\\\n",
    "\n",
    "V_{R} = r \\cdot \\omega_{R} \\\\\n",
    "V_{L} = r \\cdot \\omega_{L}\n",
    "\n",
    "\\\\\\\\\n",
    "\n",
    "v = \\frac{V_{R} + V_{L}}{2} \\\\\n",
    "\\omega = \\frac{V_{R} - V_{L}}{L}\n",
    "\n",
    "\\\\\\\\\n",
    "\n",
    "\\begin{bmatrix}\n",
    "\\dot{x} \\\\ \n",
    "\\dot{y} \\\\ \n",
    "\\dot{\\theta}\n",
    "\\end{bmatrix}\n",
    "\n",
    "=\n",
    "\n",
    "\\begin{bmatrix}\n",
    "\\cos{ \\theta } && 0 \\\\ \n",
    "\\sin{ \\theta } && 0 \\\\ \n",
    "0 && 1\n",
    "\\end{bmatrix}\n",
    "\n",
    "\\cdot\n",
    "\n",
    "\\begin{bmatrix}\n",
    "v \\\\ \\omega\n",
    "\\end{bmatrix}\n",
    "\n",
    "\\end{align}\n",
    "\n",
    "### Sensores del robot\n",
    "\n",
    "- Nivel de batería\n",
    "- Sensor IR omnidireccional para dockeo\n",
    "- Sensor de precipicios x 4 (cliff)\n",
    "- Encoders x2\n",
    "- Wheel drop x2\n",
    "- Sensor de suciedad\n",
    "- Bumpers\n",
    "- IMU\n",
    "- LiDAR\n",
    "- Cámara\n",
    "- ..."
   ]
  },
  {
   "cell_type": "markdown",
   "execution_count": null,
   "metadata": {},
   "outputs": [],
   "source": [
    "### Open Interface\n",
    "\n",
    "El robot ofrece la posibilidad de comunicarse con el robot a través de su puerto serie.\n",
    "Nosotros no usaremos este tipo de comunicación directamente, pero para saber más, el siguiente documento ofrece toda la información necesaria:"
   ]
  },
  {
   "cell_type": "code",
   "execution_count": null,
   "metadata": {},
   "outputs": [],
   "source": [
    "from IPython.display import IFrame\n",
    "IFrame(\"./media/iRobot_Roomba_600_Open_Interface_Spec.pdf\", width=512, height=768)"
   ]
  },
  {
   "cell_type": "markdown",
   "execution_count": null,
   "metadata": {},
   "outputs": [],
   "source": [
    "### libcreate y create_autonomy\n",
    "\n",
    "### Conectándose al robot"
   ]
  }
 ],
 "metadata": {
  "kernelspec": {
   "display_name": "Python 2",
   "language": "python",
   "name": "python2"
  },
  "language_info": {
   "codemirror_mode": {
    "name": "ipython",
    "version": 2
   },
   "file_extension": ".py",
   "mimetype": "text/x-python",
   "name": "python",
   "nbconvert_exporter": "python",
   "pygments_lexer": "ipython2",
   "version": "2.7.17-final"
  }
 },
 "nbformat": 4,
 "nbformat_minor": 1
}