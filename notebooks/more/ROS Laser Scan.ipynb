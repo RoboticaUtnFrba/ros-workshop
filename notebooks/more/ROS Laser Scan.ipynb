{
 "cells": [
  {
   "cell_type": "markdown",
   "metadata": {},
   "source": [
    "<img src=\"../images/TClogo.png\" width=\"200\" aling=\"right\">\n",
    "\n",
    "# AND\n",
    "\n",
    "<img src=\"../images/logo.svg\" width=\"200\" aling=\"right\">\n",
    "\n",
    "# Present"
   ]
  },
  {
   "cell_type": "markdown",
   "metadata": {},
   "source": [
    "# How to show the laser scan inside a notebook\n",
    "\n",
    "This tutorial builds on the previous two ones about how to show a grid inside a notebook and how to include the robot model.\n",
    "\n",
    "In this tutorial, you will **learn how to obtain the laser scans from the robot and show them in real time inside the notebook**.\n",
    "\n",
    "In order to get this working, **we are going to use the simulation of a Turtlebot**."
   ]
  },
  {
   "cell_type": "markdown",
   "metadata": {},
   "source": [
    "**Credits**: This notebook was originally written by Wolf Vollprecht from the Jupyter ROS project. At The Construct, we just added the proper explanations in order to make you more clear how every piece works and how to make it work with the ROSDS."
   ]
  },
  {
   "cell_type": "markdown",
   "metadata": {},
   "source": [
    "## Before starting!"
   ]
  },
  {
   "cell_type": "markdown",
   "metadata": {},
   "source": [
    "Remember that you have to have the ROS Bridge running in order for Jupyter ROS to work.\n",
    "If you haven't started it yet, launch it now.\n",
    "\n",
    "1. Go to the ROSDS TAB in your browser\n",
    "2. On the top menu, select **Tools->Shell**\n",
    "3. On the opened shell type the following command:"
   ]
  },
  {
   "cell_type": "code",
   "execution_count": null,
   "metadata": {},
   "outputs": [],
   "source": [
    "roslaunch ~/notebook_ws/notebooks/launch/bridge.launch --screen"
   ]
  },
  {
   "cell_type": "markdown",
   "metadata": {},
   "source": [
    "## Let's launch the robot simulation"
   ]
  },
  {
   "cell_type": "markdown",
   "metadata": {},
   "source": [
    "We'll need somebody to publish the URDF and the TF. For that we are going to use a Gazebo simulation. Let's start a Turtlebot2 simulation."
   ]
  },
  {
   "cell_type": "markdown",
   "metadata": {},
   "source": [
    "1. Go to the ROSDS TAB and go to its top menu.\n",
    "2. Select **Simulations**. \n",
    "3. On the panel that appears, click on the label that says `Select world`.\n",
    "4. Then on the drop down menu that appears, move down until you see the `AR Drone world`. \n",
    "3. On the panel that appears, click on the label that says `Select robot`. \n",
    "4. Then on the drop down menu that appears, move down until you see the Turtlebot 2. \n",
    "5. Click on it and then press `Start simulation`"
   ]
  },
  {
   "cell_type": "markdown",
   "metadata": {},
   "source": [
    "<img src=\"../images/turtlebot_green.png\" width=\"400\">"
   ]
  },
  {
   "cell_type": "markdown",
   "metadata": {},
   "source": [
    "A new window should appear and load the simulation. Once loaded you should see something similar to this:"
   ]
  },
  {
   "cell_type": "markdown",
   "metadata": {},
   "source": [
    "<img src=\"../images/ardrone.png\" width=\"400\">"
   ]
  },
  {
   "cell_type": "markdown",
   "metadata": {},
   "source": [
    "## Start the demo"
   ]
  },
  {
   "cell_type": "markdown",
   "metadata": {},
   "source": [
    "### First, import the required classes from jupyter ROS."
   ]
  },
  {
   "cell_type": "markdown",
   "metadata": {},
   "source": [
    "Click on the next cell and then press `Shift+Enter` to activate the Python code.\n",
    "\n",
    "**IMPORTANT**: **the import of such class can take some time!**. You will know that the code is still running because the number on the left of the cell has changed to a `*` character. **Do not move to the next step until the `*` is gone**."
   ]
  },
  {
   "cell_type": "code",
   "execution_count": 1,
   "metadata": {},
   "outputs": [],
   "source": [
    "try:\n",
    "    from sidecar import Sidecar\n",
    "except:\n",
    "    pass\n",
    "    \n",
    "from jupyros import ros3d"
   ]
  },
  {
   "cell_type": "markdown",
   "metadata": {},
   "source": [
    "### Second, create instance of the viewer, connect to ROS and get the TF"
   ]
  },
  {
   "cell_type": "markdown",
   "metadata": {},
   "source": [
    "Click on the next cell and then press `Shift+Enter` to activate the Python code."
   ]
  },
  {
   "cell_type": "code",
   "execution_count": 2,
   "metadata": {},
   "outputs": [],
   "source": [
    "v = ros3d.Viewer()\n",
    "rc = ros3d.ROSConnection()\n",
    "tf_client = ros3d.TFClient(ros=rc, fixed_frame='/base_footprint')"
   ]
  },
  {
   "cell_type": "markdown",
   "metadata": {},
   "source": [
    "### Connect to the topic of the laser"
   ]
  },
  {
   "cell_type": "markdown",
   "metadata": {},
   "source": [
    "Click on the next cell and then press `Shift+Enter` to activate the Python code."
   ]
  },
  {
   "cell_type": "code",
   "execution_count": 3,
   "metadata": {},
   "outputs": [],
   "source": [
    "laser_view = ros3d.LaserScan(topic=\"/kobuki/laser/scan\", ros=rc, tf_client=tf_client)"
   ]
  },
  {
   "cell_type": "markdown",
   "metadata": {},
   "source": [
    "### Fourth, get the 3D grid and the robot model"
   ]
  },
  {
   "cell_type": "markdown",
   "metadata": {},
   "source": [
    "Click on the next cell and then press `Shift+Enter` to activate the Python code."
   ]
  },
  {
   "cell_type": "code",
   "execution_count": 4,
   "metadata": {},
   "outputs": [],
   "source": [
    "g = ros3d.GridModel()\n",
    "import os\n",
    "urdf = ros3d.URDFModel(ros=rc, tf_client=tf_client, path=os.environ.get('JUPYROS_ASSETS_URL', 'http://localhost:3000'))"
   ]
  },
  {
   "cell_type": "code",
   "execution_count": 5,
   "metadata": {},
   "outputs": [],
   "source": [
    "v.objects = [g, laser_view, urdf]"
   ]
  },
  {
   "cell_type": "markdown",
   "metadata": {},
   "source": [
    "### Fifth, visualize everything"
   ]
  },
  {
   "cell_type": "markdown",
   "metadata": {},
   "source": [
    "Click on the next cell and then press `Shift+Enter` to activate the Python code."
   ]
  },
  {
   "cell_type": "code",
   "execution_count": 6,
   "metadata": {},
   "outputs": [
    {
     "data": {
      "application/vnd.jupyter.widget-view+json": {
       "model_id": "7619d3fa0a10440aacf8f1da6bfb0859",
       "version_major": 2,
       "version_minor": 0
      },
      "text/plain": [
       "Vmlld2VyKG9iamVjdHM9W0dyaWRNb2RlbCgpLCBMYXNlclNjYW4ocm9zPVJPU0Nvbm5lY3Rpb24oKSwgdGZfY2xpZW50PVRGQ2xpZW50KGZpeGVkX2ZyYW1lPXUnL2Jhc2VfZm9vdHByaW50JyzigKY=\n"
      ]
     },
     "metadata": {},
     "output_type": "display_data"
    }
   ],
   "source": [
    "try:\n",
    "    sc = Sidecar(title='Sidecar Output')\n",
    "    with sc:\n",
    "        display(v)\n",
    "except:\n",
    "    display(v)"
   ]
  },
  {
   "cell_type": "markdown",
   "metadata": {},
   "source": [
    "### Sixth, change the visualization style (if required)"
   ]
  },
  {
   "cell_type": "markdown",
   "metadata": {},
   "source": [
    "Click on the next cell and then press `Shift+Enter` to activate the Python code."
   ]
  },
  {
   "cell_type": "code",
   "execution_count": 7,
   "metadata": {},
   "outputs": [],
   "source": [
    "v.layout.height= '1000px'\n",
    "g.color = '#CCC'\n",
    "laser_view.point_size = 0.1\n",
    "laser_view.static_color = \"green\""
   ]
  },
  {
   "cell_type": "markdown",
   "metadata": {},
   "source": [
    "### Move the robot around and watch the laser change!"
   ]
  },
  {
   "cell_type": "markdown",
   "metadata": {},
   "source": [
    "Open a new shell and type the following command to make the robot move around:"
   ]
  },
  {
   "cell_type": "code",
   "execution_count": null,
   "metadata": {},
   "outputs": [],
   "source": [
    "rostopic pub /cmd_vel geometry_msgs/Twist \"linear:\n",
    "  x: 0.2\n",
    "  y: 0.0\n",
    "  z: 0.0\n",
    "angular:\n",
    "  x: 0.0\n",
    "  y: 0.0\n",
    "  z: 0.3\""
   ]
  },
  {
   "cell_type": "markdown",
   "metadata": {},
   "source": [
    "## Next tutorial"
   ]
  },
  {
   "cell_type": "markdown",
   "metadata": {},
   "source": [
    "The [next tutorial](ROS%20Laser%20Scan.ipynb) is about how to visualize the laser of a robot inside the 3D grid"
   ]
  }
 ],
 "metadata": {
  "kernelspec": {
   "display_name": "Python 2",
   "language": "python",
   "name": "python2"
  },
  "language_info": {
   "codemirror_mode": {
    "name": "ipython",
    "version": 2
   },
   "file_extension": ".py",
   "mimetype": "text/x-python",
   "name": "python",
   "nbconvert_exporter": "python",
   "pygments_lexer": "ipython2",
   "version": "2.7.16"
  }
 },
 "nbformat": 4,
 "nbformat_minor": 2
}
