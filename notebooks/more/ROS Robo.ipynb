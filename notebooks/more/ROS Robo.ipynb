{
 "cells": [
  {
   "cell_type": "markdown",
   "metadata": {},
   "source": [
    "<img src=\"../images/TClogo.png\" width=\"200\" aling=\"right\">\n",
    "\n",
    "# AND\n",
    "\n",
    "<img src=\"../images/logo.svg\" width=\"200\" aling=\"right\">\n",
    "\n",
    "# Present"
   ]
  },
  {
   "cell_type": "markdown",
   "metadata": {},
   "source": [
    "# How to show a ROS robot inside a Jupyter Notebook\n",
    "\n",
    "This tutorial builds on the previous one about how to show a grid inside a notebook.\n",
    "\n",
    "In this tutorial, you will **learn how to obtain the URDF model of the robot and the TF from the ROS system, and show the robot status inside the notebook**.\n",
    "\n",
    "In order to get this working, **we are going to use the simulation of a Turtlebot**."
   ]
  },
  {
   "cell_type": "markdown",
   "metadata": {},
   "source": [
    "**Credits**: This notebook was originally written by Wolf Vollprecht from the Jupyter ROS project. At The Construct, we just added the proper explanations in order to make you more clear how every piece works and how to make it work with the ROSDS."
   ]
  },
  {
   "cell_type": "markdown",
   "metadata": {},
   "source": [
    "## Before starting!"
   ]
  },
  {
   "cell_type": "markdown",
   "metadata": {},
   "source": [
    "Remember that you have to have the ROS Bridge running in order for Jupyter ROS to work.\n",
    "If you haven't started it yet, launch it now.\n",
    "\n",
    "1. Go to the ROSDS TAB in your browser\n",
    "2. On the top menu, select **Tools->Shell**\n",
    "3. On the opened shell type the following command:"
   ]
  },
  {
   "cell_type": "code",
   "execution_count": null,
   "metadata": {},
   "outputs": [],
   "source": [
    "roslaunch ~/notebook_ws/notebooks/launch/bridge.launch --screen"
   ]
  },
  {
   "cell_type": "markdown",
   "metadata": {},
   "source": [
    "## Let's launch the robot simulation"
   ]
  },
  {
   "cell_type": "markdown",
   "metadata": {},
   "source": [
    "We'll need somebody to publish the URDF and the TF. For that we are going to use a Gazebo simulation. Let's start a Turtlebot2 simulation."
   ]
  },
  {
   "cell_type": "markdown",
   "metadata": {},
   "source": [
    "1. Go to the ROSDS TAB and go to its top menu.\n",
    "2. Select **Simulations**. \n",
    "3. On the panel that appears, click on the label that says `Select robot`. \n",
    "4. Then on the drop down menu that appears, move down until you see the Turtlebot 2. \n",
    "5. Click on it and then press `Start simulation`"
   ]
  },
  {
   "cell_type": "markdown",
   "metadata": {},
   "source": [
    "<img src=\"../images/simulation%20menu.png\" width=\"400\">"
   ]
  },
  {
   "cell_type": "markdown",
   "metadata": {},
   "source": [
    "A new window should appear and load the simulation. Once loaded you should see something similar to this:"
   ]
  },
  {
   "cell_type": "markdown",
   "metadata": {},
   "source": [
    "<img src=\"../images/turtlebot.png\" width=\"400\">"
   ]
  },
  {
   "cell_type": "markdown",
   "metadata": {},
   "source": [
    "## Start the demo"
   ]
  },
  {
   "cell_type": "markdown",
   "metadata": {},
   "source": [
    "### First, import the required class from jupyter ROS."
   ]
  },
  {
   "cell_type": "markdown",
   "metadata": {},
   "source": [
    "Click on the next cell and then press `Shift+Enter` to activate the Python code.\n",
    "\n",
    "**IMPORTANT**: **the import of such class can take some time!**. You will know that the code is still running because the number on the left of the cell has changed to a `*` character. **Do not move to the next step until the `*` is gone**."
   ]
  },
  {
   "cell_type": "code",
   "execution_count": 1,
   "metadata": {},
   "outputs": [],
   "source": [
    "from jupyros import ros3d"
   ]
  },
  {
   "cell_type": "markdown",
   "metadata": {},
   "source": [
    "### Second, create an instance of the viewer"
   ]
  },
  {
   "cell_type": "markdown",
   "metadata": {},
   "source": [
    "Click on the next cell and then press `Shift+Enter` to activate the Python code."
   ]
  },
  {
   "cell_type": "code",
   "execution_count": 2,
   "metadata": {},
   "outputs": [],
   "source": [
    "v = ros3d.Viewer()"
   ]
  },
  {
   "cell_type": "markdown",
   "metadata": {},
   "source": [
    "### Third, create a connection with the ROS core"
   ]
  },
  {
   "cell_type": "markdown",
   "metadata": {},
   "source": [
    "Click on the next cell and then press `Shift+Enter` to activate the Python code."
   ]
  },
  {
   "cell_type": "code",
   "execution_count": 3,
   "metadata": {},
   "outputs": [],
   "source": [
    "rc = ros3d.ROSConnection()"
   ]
  },
  {
   "cell_type": "markdown",
   "metadata": {},
   "source": [
    "### Fourth, create a client connection to TF"
   ]
  },
  {
   "cell_type": "markdown",
   "metadata": {},
   "source": [
    "Click on the next cell and then press `Shift+Enter` to activate the Python code."
   ]
  },
  {
   "cell_type": "code",
   "execution_count": 4,
   "metadata": {},
   "outputs": [],
   "source": [
    "tf_client = ros3d.TFClient(ros=rc, fixed_frame='/base_footprint')"
   ]
  },
  {
   "cell_type": "markdown",
   "metadata": {},
   "source": [
    "### Fifth, create an instance of the URDF of the robot"
   ]
  },
  {
   "cell_type": "markdown",
   "metadata": {},
   "source": [
    "Click on the next cell and then press `Shift+Enter` to activate the Python code."
   ]
  },
  {
   "cell_type": "code",
   "execution_count": 5,
   "metadata": {},
   "outputs": [],
   "source": [
    "import os\n",
    "urdf = ros3d.URDFModel(ros=rc, tf_client=tf_client, path=os.environ.get('JUPYROS_ASSETS_URL', 'http://localhost:3000'))"
   ]
  },
  {
   "cell_type": "markdown",
   "metadata": {},
   "source": [
    "### Sixth, create the 3D grid where we will show the robot"
   ]
  },
  {
   "cell_type": "markdown",
   "metadata": {},
   "source": [
    "Click on the next cell and then press `Shift+Enter` to activate the Python code."
   ]
  },
  {
   "cell_type": "code",
   "execution_count": 6,
   "metadata": {},
   "outputs": [],
   "source": [
    "g = ros3d.GridModel()"
   ]
  },
  {
   "cell_type": "markdown",
   "metadata": {},
   "source": [
    "### Seventh, add the grid and the urdf to the viewer instance"
   ]
  },
  {
   "cell_type": "markdown",
   "metadata": {},
   "source": [
    "Click on the next cell and then press `Shift+Enter` to activate the Python code."
   ]
  },
  {
   "cell_type": "code",
   "execution_count": 7,
   "metadata": {},
   "outputs": [],
   "source": [
    "v.objects = [g, urdf]"
   ]
  },
  {
   "cell_type": "markdown",
   "metadata": {},
   "source": [
    "### Now let's visualize it!"
   ]
  },
  {
   "cell_type": "markdown",
   "metadata": {},
   "source": [
    "Click on the next cell and then press `Shift+Enter` to activate the Python code."
   ]
  },
  {
   "cell_type": "code",
   "execution_count": null,
   "metadata": {},
   "outputs": [],
   "source": [
    "v"
   ]
  },
  {
   "cell_type": "markdown",
   "metadata": {},
   "source": [
    "### In case you want to change the layout of the viewer, execute the following"
   ]
  },
  {
   "cell_type": "markdown",
   "metadata": {},
   "source": [
    "Click on the next cell and then press `Shift+Enter` to activate the Python code."
   ]
  },
  {
   "cell_type": "code",
   "execution_count": 9,
   "metadata": {},
   "outputs": [],
   "source": [
    "v.layout.height = '500px'"
   ]
  },
  {
   "cell_type": "markdown",
   "metadata": {},
   "source": [
    "Check the official documentation of [Jupyter ROS](https://github.com/RoboStack/jupyter-ros) to learn about more options of the 3D Grid"
   ]
  },
  {
   "cell_type": "markdown",
   "metadata": {},
   "source": [
    "### Homework: change the robot"
   ]
  },
  {
   "cell_type": "markdown",
   "metadata": {},
   "source": [
    "Go to the simulations menu and change the simulation for another robot and visualize its model there.\n",
    "\n",
    "**Hints:**\n",
    "\n",
    "* You will need to restart the kernel of this notebook. Go to the top of this notebook and press the restart icon.\n",
    "* You may need to change the `base_link` in the *TFClient* accordingly with the robot\n",
    "* If you kill the simulation, the ROS Bridge will need a restart"
   ]
  },
  {
   "cell_type": "markdown",
   "metadata": {},
   "source": [
    "## Next tutorial"
   ]
  },
  {
   "cell_type": "markdown",
   "metadata": {},
   "source": [
    "The [next tutorial](ROS%20Laser%20Scan.ipynb) is about how to visualize the laser of a robot inside the 3D grid"
   ]
  }
 ],
 "metadata": {
  "kernelspec": {
   "display_name": "Python 2",
   "language": "python",
   "name": "python2"
  },
  "language_info": {
   "codemirror_mode": {
    "name": "ipython",
    "version": 2
   },
   "file_extension": ".py",
   "mimetype": "text/x-python",
   "name": "python",
   "nbconvert_exporter": "python",
   "pygments_lexer": "ipython2",
   "version": "2.7.16"
  }
 },
 "nbformat": 4,
 "nbformat_minor": 2
}
