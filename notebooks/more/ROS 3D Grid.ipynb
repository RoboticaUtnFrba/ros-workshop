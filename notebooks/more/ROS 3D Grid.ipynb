{
 "cells": [
  {
   "cell_type": "markdown",
   "metadata": {},
   "source": [
    "<img src=\"../images/TClogo.png\" width=\"200\" aling=\"right\">\n",
    "\n",
    "# AND\n",
    "\n",
    "<img src=\"../images/logo.svg\" width=\"200\" aling=\"right\">\n",
    "\n",
    "# Present"
   ]
  },
  {
   "cell_type": "markdown",
   "metadata": {},
   "source": [
    "# How to show an interactive 3D grid inside Jupyter"
   ]
  },
  {
   "cell_type": "markdown",
   "metadata": {},
   "source": [
    "Very simple demo about how to embed a 3D space inside the notebook. This is required to later show additional information about the robot."
   ]
  },
  {
   "cell_type": "markdown",
   "metadata": {},
   "source": [
    "**Credits**: This notebook was originally written by Wolf Vollprecht from the Jupyter ROS project. At The Construct, we just added the proper explanations in order to make you more clear how every piece works and how to make it work with the ROSDS."
   ]
  },
  {
   "cell_type": "markdown",
   "metadata": {},
   "source": [
    "## Before starting!"
   ]
  },
  {
   "cell_type": "markdown",
   "metadata": {},
   "source": [
    "Remember that you have to have the ROS Bridge running in order for Jupyter ROS to work.\n",
    "If you haven't started it yet, launch it now.\n",
    "\n",
    "1. Go to the ROSDS TAB in your browser\n",
    "2. On the top menu, select **Tools->Shell**\n",
    "3. On the open shell type the following command:"
   ]
  },
  {
   "cell_type": "code",
   "execution_count": null,
   "metadata": {},
   "outputs": [],
   "source": [
    "roslaunch ~/notebook_ws/notebooks/launch/bridge.launch --screen"
   ]
  },
  {
   "cell_type": "markdown",
   "metadata": {},
   "source": [
    "## Start the demo"
   ]
  },
  {
   "cell_type": "markdown",
   "metadata": {},
   "source": [
    "### First, import the required class from jupyter ROS."
   ]
  },
  {
   "cell_type": "markdown",
   "metadata": {},
   "source": [
    "Click on the next cell and then press `Shift+Enter` to activate the Python code.\n",
    "\n",
    "**IMPORTANT**: the import of such class can take some time. You will know that the code is still running because the number on the left of the cell has changed to a `*` character. Do not move to the next step until the `*` is gone."
   ]
  },
  {
   "cell_type": "code",
   "execution_count": 1,
   "metadata": {},
   "outputs": [],
   "source": [
    "from jupyros import ros3d"
   ]
  },
  {
   "cell_type": "markdown",
   "metadata": {},
   "source": [
    "### Second, create an instance of the viewer"
   ]
  },
  {
   "cell_type": "markdown",
   "metadata": {},
   "source": [
    "Click on the next cell and then press `Shift+Enter` to activate the Python code."
   ]
  },
  {
   "cell_type": "code",
   "execution_count": 2,
   "metadata": {},
   "outputs": [],
   "source": [
    "v = ros3d.Viewer()"
   ]
  },
  {
   "cell_type": "markdown",
   "metadata": {},
   "source": [
    "### Third, configure the viewer"
   ]
  },
  {
   "cell_type": "markdown",
   "metadata": {},
   "source": [
    "Click on the next cell and then press `Shift+Enter` to activate the Python code."
   ]
  },
  {
   "cell_type": "code",
   "execution_count": 3,
   "metadata": {},
   "outputs": [],
   "source": [
    "g1 = ros3d.GridModel()\n",
    "v.objects = [g1]\n",
    "g1.cell_size = 1\n",
    "g2 = ros3d.GridModel()\n",
    "g2.cell_size = 0.2\n",
    "g2.color = '#CCC'\n",
    "v.objects = [g2, g1]"
   ]
  },
  {
   "cell_type": "markdown",
   "metadata": {},
   "source": [
    "### Finally, launch the viewer"
   ]
  },
  {
   "cell_type": "markdown",
   "metadata": {},
   "source": [
    "Let's launch the viewer, so we can see the 3D interactive grid. "
   ]
  },
  {
   "cell_type": "markdown",
   "metadata": {},
   "source": [
    "Click on the next cell and then press `Shift+Enter` to activate the Python code."
   ]
  },
  {
   "cell_type": "code",
   "execution_count": null,
   "metadata": {},
   "outputs": [],
   "source": [
    "v"
   ]
  },
  {
   "cell_type": "markdown",
   "metadata": {},
   "source": [
    "Use the mouse to move on the grid around, and change your 3D perspective in the grid. It works like the Rviz or Gazebo environments."
   ]
  },
  {
   "cell_type": "markdown",
   "metadata": {},
   "source": [
    "### In case you want to modify the grid appearance"
   ]
  },
  {
   "cell_type": "markdown",
   "metadata": {},
   "source": [
    "You have many options to make the 3D look like you need for your application. For example, let's change the dimensions and border of it."
   ]
  },
  {
   "cell_type": "markdown",
   "metadata": {},
   "source": [
    "Click on the next cell and then press `Shift+Enter` to activate the Python code."
   ]
  },
  {
   "cell_type": "code",
   "execution_count": 5,
   "metadata": {},
   "outputs": [],
   "source": [
    "v.layout.border = \"5px solid #00FF00\"\n",
    "v.layout.height = \"1000px\"\n",
    "v.layout.width = \"100%\""
   ]
  },
  {
   "cell_type": "markdown",
   "metadata": {},
   "source": [
    "Check the official documentation of [Jupyter ROS](https://github.com/RoboStack/jupyter-ros) to learn about more options of the 3D Grid"
   ]
  },
  {
   "cell_type": "markdown",
   "metadata": {},
   "source": [
    "## Next tutorial"
   ]
  },
  {
   "cell_type": "markdown",
   "metadata": {},
   "source": [
    "The [next tutorial](ROS%20Robo.ipynb) is about how to add a robot model inside the 3D grid"
   ]
  }
 ],
 "metadata": {
  "kernelspec": {
   "display_name": "Python 2",
   "language": "python",
   "name": "python2"
  },
  "language_info": {
   "codemirror_mode": {
    "name": "ipython",
    "version": 2
   },
   "file_extension": ".py",
   "mimetype": "text/x-python",
   "name": "python",
   "nbconvert_exporter": "python",
   "pygments_lexer": "ipython2",
   "version": "2.7.16"
  }
 },
 "nbformat": 4,
 "nbformat_minor": 2
}
