{
 "cells": [
  {
   "cell_type": "markdown",
   "metadata": {},
   "source": [
    "Please remember to first run `roslaunch ~/notebook_ws/notebooks/launch/bridge.launch --screen`"
   ]
  },
  {
   "cell_type": "code",
   "execution_count": 1,
   "metadata": {},
   "outputs": [],
   "source": [
    "import rospy as rp\n",
    "import jupyros as jr"
   ]
  },
  {
   "cell_type": "code",
   "execution_count": 2,
   "metadata": {},
   "outputs": [],
   "source": [
    "from __future__ import print_function"
   ]
  },
  {
   "cell_type": "code",
   "execution_count": 3,
   "metadata": {},
   "outputs": [],
   "source": [
    "from geometry_msgs.msg import Pose, Vector3"
   ]
  },
  {
   "cell_type": "code",
   "execution_count": 4,
   "metadata": {},
   "outputs": [],
   "source": [
    "rp.init_node('runner')"
   ]
  },
  {
   "cell_type": "code",
   "execution_count": 5,
   "metadata": {},
   "outputs": [],
   "source": [
    "from geometry_msgs.msg import Pose\n",
    "import math"
   ]
  },
  {
   "cell_type": "code",
   "execution_count": 6,
   "metadata": {},
   "outputs": [
    {
     "data": {
      "application/vnd.jupyter.widget-view+json": {
       "model_id": "c2a05e625ca446a5bb5c19246ccf4109",
       "version_major": 2,
       "version_minor": 0
      },
      "text/plain": [
       "Output(layout=Layout(border=u'1px solid gray'))"
      ]
     },
     "metadata": {},
     "output_type": "display_data"
    }
   ],
   "source": [
    "%%thread_cell\n",
    "from geometry_msgs.msg import Pose, Vector3\n",
    "import rospy as rp\n",
    "import math\n",
    "i = 0\n",
    "rate = rp.Rate(5)\n",
    "pub = rp.Publisher('/poser', Vector3, queue_size=10)\n",
    "while True:\n",
    "    msg = Vector3()\n",
    "    msg.x = math.sin(i * 0.1)\n",
    "    msg.y = math.cos(i * 0.1)\n",
    "    pub.publish(msg)\n",
    "    i += 1\n",
    "    rate.sleep()"
   ]
  },
  {
   "cell_type": "code",
   "execution_count": 7,
   "metadata": {
    "scrolled": false
   },
   "outputs": [
    {
     "data": {
      "application/vnd.jupyter.widget-view+json": {
       "model_id": "8dc5f9e5431b444595fcee09d102ceff",
       "version_major": 2,
       "version_minor": 0
      },
      "text/plain": [
       "VkJveChjaGlsZHJlbj0oSEJveChjaGlsZHJlbj0oQnV0dG9uKGRlc2NyaXB0aW9uPXUnU3RvcCcsIHN0eWxlPUJ1dHRvblN0eWxlKCkpLCkpLCBPdXRwdXQobGF5b3V0PUxheW91dChib3JkZXLigKY=\n"
      ]
     },
     "metadata": {},
     "output_type": "display_data"
    }
   ],
   "source": [
    "jr.subscribe('/poser', Vector3, lambda msg: print(msg.x, msg.y))"
   ]
  },
  {
   "cell_type": "code",
   "execution_count": 8,
   "metadata": {},
   "outputs": [],
   "source": [
    "plot_string = '/poser/:x:y'\n",
    "topic = plot_string[:plot_string.find(':') - 1]\n",
    "fields = plot_string.split(':')[1:]"
   ]
  },
  {
   "cell_type": "code",
   "execution_count": 9,
   "metadata": {},
   "outputs": [
    {
     "data": {
      "application/vnd.jupyter.widget-view+json": {
       "model_id": "fd397e73db0c471dab707c94d242702e",
       "version_major": 2,
       "version_minor": 0
      },
      "text/plain": [
       "RmlndXJlKGF4ZXM9W0F4aXMobGFiZWw9dSdYJywgc2NhbGU9TGluZWFyU2NhbGUoKSksIEF4aXMobGFiZWw9dSdZJywgb3JpZW50YXRpb249J3ZlcnRpY2FsJywgc2NhbGU9TGluZWFyU2NhbGXigKY=\n"
      ]
     },
     "metadata": {},
     "output_type": "display_data"
    }
   ],
   "source": [
    "jr.live_plot('/poser/:x:y', Vector3)"
   ]
  },
  {
   "cell_type": "code",
   "execution_count": 10,
   "metadata": {},
   "outputs": [
    {
     "name": "stdout",
     "output_type": "stream",
     "text": [
      "Traceback (most recent call last):\r\n",
      "  File \"/opt/ros/kinetic/bin/rqt_plot\", line 6, in <module>\r\n",
      "    from rqt_plot.plot import Plot\r\n",
      "  File \"/opt/ros/kinetic/lib/python2.7/dist-packages/rqt_plot/plot.py\", line 35, in <module>\r\n",
      "    from python_qt_binding import QT_BINDING\r\n",
      "  File \"/opt/ros/kinetic/lib/python2.7/dist-packages/python_qt_binding/__init__.py\", line 55, in <module>\r\n",
      "    from .binding_helper import loadUi, QT_BINDING, QT_BINDING_MODULES, QT_BINDING_VERSION  # @UnusedImport\r\n",
      "  File \"/opt/ros/kinetic/lib/python2.7/dist-packages/python_qt_binding/binding_helper.py\", line 271, in <module>\r\n",
      "    getattr(sys, 'SELECT_QT_BINDING_ORDER', None),\r\n",
      "  File \"/opt/ros/kinetic/lib/python2.7/dist-packages/python_qt_binding/binding_helper.py\", line 117, in _select_qt_binding\r\n",
      "    raise ImportError(\"Could not find Qt binding (looked for: %s):\\n%s\" % (', '.join([\"'%s'\" % b for b in binding_order]), '\\n'.join(error_msgs)))\r\n",
      "ImportError: Could not find Qt binding (looked for: 'pyqt', 'pyside'):\r\n",
      "  ImportError for 'pyqt': /lib/x86_64-linux-gnu/libz.so.1: version `ZLIB_1.2.9' not found (required by /etc/jupyter/lib/python2.7/site-packages/PyQt5/../../.././libpng16.so.16)\r\n",
      "Traceback (most recent call last):\r\n",
      "  File \"/opt/ros/kinetic/lib/python2.7/dist-packages/python_qt_binding/binding_helper.py\", line 108, in _select_qt_binding\r\n",
      "    QT_BINDING_VERSION = binding_loader(required_modules, optional_modules)\r\n",
      "  File \"/opt/ros/kinetic/lib/python2.7/dist-packages/python_qt_binding/binding_helper.py\", line 150, in _load_pyqt\r\n",
      "    _named_import('PyQt5.%s' % module_name)\r\n",
      "  File \"/opt/ros/kinetic/lib/python2.7/dist-packages/python_qt_binding/binding_helper.py\", line 130, in _named_import\r\n",
      "    module = builtins.__import__(name)\r\n",
      "ImportError: /lib/x86_64-linux-gnu/libz.so.1: version `ZLIB_1.2.9' not found (required by /etc/jupyter/lib/python2.7/site-packages/PyQt5/../../.././libpng16.so.16)\r\n",
      "\r\n",
      "  ImportError for 'pyside': /usr/lib/x86_64-linux-gnu/libQt5Network.so.5: undefined symbol: _Z15qIsEffectiveTLDRK7QString\r\n",
      "Traceback (most recent call last):\r\n",
      "  File \"/opt/ros/kinetic/lib/python2.7/dist-packages/python_qt_binding/binding_helper.py\", line 108, in _select_qt_binding\r\n",
      "    QT_BINDING_VERSION = binding_loader(required_modules, optional_modules)\r\n",
      "  File \"/opt/ros/kinetic/lib/python2.7/dist-packages/python_qt_binding/binding_helper.py\", line 182, in _load_pyside\r\n",
      "    _named_import('PySide2.%s' % module_name)\r\n",
      "  File \"/opt/ros/kinetic/lib/python2.7/dist-packages/python_qt_binding/binding_helper.py\", line 130, in _named_import\r\n",
      "    module = builtins.__import__(name)\r\n",
      "ImportError: /usr/lib/x86_64-linux-gnu/libQt5Network.so.5: undefined symbol: _Z15qIsEffectiveTLDRK7QString\r\n",
      "\r\n"
     ]
    }
   ],
   "source": [
    "!rqt_plot /poser"
   ]
  },
  {
   "cell_type": "code",
   "execution_count": null,
   "metadata": {},
   "outputs": [],
   "source": []
  }
 ],
 "metadata": {
  "kernelspec": {
   "display_name": "Python 2",
   "language": "python",
   "name": "python2"
  },
  "language_info": {
   "codemirror_mode": {
    "name": "ipython",
    "version": 2
   },
   "file_extension": ".py",
   "mimetype": "text/x-python",
   "name": "python",
   "nbconvert_exporter": "python",
   "pygments_lexer": "ipython2",
   "version": "2.7.16"
  }
 },
 "nbformat": 4,
 "nbformat_minor": 2
}
