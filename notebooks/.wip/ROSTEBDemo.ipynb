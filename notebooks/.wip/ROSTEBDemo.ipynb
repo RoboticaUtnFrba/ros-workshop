{
 "cells": [
  {
   "cell_type": "markdown",
   "metadata": {},
   "source": [
    "<img src=\"../images/TClogo.png\" width=\"200\" aling=\"right\">\n",
    "\n",
    "# AND\n",
    "\n",
    "<img src=\"../images/logo.svg\" width=\"200\" aling=\"right\">\n",
    "\n",
    "# Present"
   ]
  },
  {
   "cell_type": "markdown",
   "metadata": {},
   "source": [
    "# How to use interactive markers inside a notebook\n",
    "\n",
    "This tutorial builds on the previous ones.\n",
    "\n",
    "In this tutorial, you will **learn how to add interactive markers to the notebook which change the path in real time**.\n",
    "\n",
    "In order to get this working, **we are going to use the simulation of a Turtlebot**."
   ]
  },
  {
   "cell_type": "markdown",
   "metadata": {},
   "source": [
    "**Credits**: This notebook was originally written by Wolf Vollprecht from the Jupyter ROS project. At The Construct, we just added the proper explanations in order to make you more clear how every piece works and how to make it work with the ROSDS."
   ]
  },
  {
   "cell_type": "markdown",
   "metadata": {},
   "source": [
    "## Let's launch the robot simulation"
   ]
  },
  {
   "cell_type": "markdown",
   "metadata": {},
   "source": [
    "We'll need somebody to publish the URDF and the TF. For that we are going to use a Gazebo simulation. Let's start a Turtlebot2 simulation."
   ]
  },
  {
   "cell_type": "markdown",
   "metadata": {},
   "source": [
    "1. Go to the ROSDS TAB and go to its top menu.\n",
    "2. Select **Simulations**. \n",
    "3. On the panel that appears, click on the label that says `Select world`.\n",
    "4. Then on the drop down menu that appears, move down until you see the `AR Drone world`. \n",
    "3. On the panel that appears, click on the label that says `Select robot`. \n",
    "4. Then on the drop down menu that appears, move down until you see the Turtlebot 2. \n",
    "5. Click on it and then press `Start simulation`"
   ]
  },
  {
   "cell_type": "markdown",
   "metadata": {},
   "source": [
    "<img src=\"../images/turtlebot_green.png\" width=\"400\">"
   ]
  },
  {
   "cell_type": "markdown",
   "metadata": {},
   "source": [
    "A new window should appear and load the simulation. Once loaded you should see something similar to this:"
   ]
  },
  {
   "cell_type": "markdown",
   "metadata": {},
   "source": [
    "<img src=\"../images/ardrone.png\" width=\"400\">"
   ]
  },
  {
   "cell_type": "markdown",
   "metadata": {},
   "source": [
    "## Before starting!"
   ]
  },
  {
   "cell_type": "markdown",
   "metadata": {},
   "source": [
    "Remember that you have to have the ROS Bridge running in order for Jupyter ROS to work.\n",
    "If you haven't started it yet, launch it now.\n",
    "\n",
    "1. Go to the ROSDS TAB in your browser\n",
    "2. On the top menu, select **Tools->Shell**\n",
    "3. On the opened shell type the following command:"
   ]
  },
  {
   "cell_type": "code",
   "execution_count": null,
   "metadata": {},
   "outputs": [],
   "source": [
    "roslaunch teb_local_planner test_optim_node.launch --screen"
   ]
  },
  {
   "cell_type": "markdown",
   "metadata": {},
   "source": [
    "Then open a second shell and launch the following command:"
   ]
  },
  {
   "cell_type": "code",
   "execution_count": null,
   "metadata": {},
   "outputs": [],
   "source": [
    "roslaunch ~/notebook_ws/notebooks/launch/tebmarkers.launch --screen"
   ]
  },
  {
   "cell_type": "markdown",
   "metadata": {},
   "source": [
    "## Start the demo"
   ]
  },
  {
   "cell_type": "markdown",
   "metadata": {},
   "source": [
    "### First, import the required classes from jupyter ROS."
   ]
  },
  {
   "cell_type": "markdown",
   "metadata": {},
   "source": [
    "Click on the next cell and then press `Shift+Enter` to activate the Python code.\n",
    "\n",
    "**IMPORTANT**: **the import of such class can take some time!**. You will know that the code is still running because the number on the left of the cell has changed to a `*` character. **Do not move to the next step until the `*` is gone**."
   ]
  },
  {
   "cell_type": "code",
   "execution_count": 1,
   "metadata": {},
   "outputs": [],
   "source": [
    "from jupyros import ros3d"
   ]
  },
  {
   "cell_type": "markdown",
   "metadata": {},
   "source": [
    "### Second, create instance of the viewer, connect to ROS and get the TF"
   ]
  },
  {
   "cell_type": "markdown",
   "metadata": {},
   "source": [
    "Click on the next cell and then press `Shift+Enter` to activate the Python code."
   ]
  },
  {
   "cell_type": "code",
   "execution_count": 2,
   "metadata": {},
   "outputs": [],
   "source": [
    "v = ros3d.Viewer()\n",
    "rc = ros3d.ROSConnection()\n",
    "tf_client = ros3d.TFClient(ros=rc, fixed_frame='/base_footprint')"
   ]
  },
  {
   "cell_type": "code",
   "execution_count": 3,
   "metadata": {},
   "outputs": [
    {
     "data": {
      "application/vnd.jupyter.widget-view+json": {
       "model_id": "347311dde0184d939bf390c3e90a736e",
       "version_major": 2,
       "version_minor": 0
      },
      "text/plain": [
       "Viewer()"
      ]
     },
     "metadata": {},
     "output_type": "display_data"
    }
   ],
   "source": [
    "v"
   ]
  },
  {
   "cell_type": "markdown",
   "metadata": {},
   "source": [
    "### Third, get the path published by the planner"
   ]
  },
  {
   "cell_type": "markdown",
   "metadata": {},
   "source": [
    "Click on the next cell and then press `Shift+Enter` to activate the Python code."
   ]
  },
  {
   "cell_type": "code",
   "execution_count": 4,
   "metadata": {},
   "outputs": [],
   "source": [
    "path_view = ros3d.Path(ros=rc, tf_client=tf_client, topic=\"/test_optim_node/local_plan\")"
   ]
  },
  {
   "cell_type": "markdown",
   "metadata": {},
   "source": [
    "### Fourth, get the marker"
   ]
  },
  {
   "cell_type": "markdown",
   "metadata": {},
   "source": [
    "Click on the next cell and then press `Shift+Enter` to activate the Python code."
   ]
  },
  {
   "cell_type": "code",
   "execution_count": 5,
   "metadata": {},
   "outputs": [],
   "source": [
    "marker_view = ros3d.Marker(ros=rc, tf_client=tf_client, topic=\"/test_optim_node/teb_markers\")\n",
    "interactive_marker_view = ros3d.InteractiveMarker(ros=rc, tf_client=tf_client, topic=\"/marker_obstacles\")"
   ]
  },
  {
   "cell_type": "markdown",
   "metadata": {},
   "source": [
    "### Fifth, add all the elements to the 3D viewer"
   ]
  },
  {
   "cell_type": "markdown",
   "metadata": {},
   "source": [
    "Click on the next cell and then press `Shift+Enter` to activate the Python code."
   ]
  },
  {
   "cell_type": "code",
   "execution_count": 6,
   "metadata": {},
   "outputs": [],
   "source": [
    "v.objects = [marker_view, interactive_marker_view, path_view]"
   ]
  },
  {
   "cell_type": "markdown",
   "metadata": {},
   "source": [
    "### Sixth, visualize everything"
   ]
  },
  {
   "cell_type": "markdown",
   "metadata": {},
   "source": [
    "Click on the next cell and then press `Shift+Enter` to activate the Python code."
   ]
  },
  {
   "cell_type": "code",
   "execution_count": 6,
   "metadata": {
    "scrolled": true
   },
   "outputs": [
    {
     "data": {
      "application/vnd.jupyter.widget-view+json": {
       "model_id": "f8735a42907940d5921079a0611a5e0b",
       "version_major": 2,
       "version_minor": 0
      },
      "text/plain": [
       "Vmlld2VyKG9iamVjdHM9W01hcmtlcihyb3M9Uk9TQ29ubmVjdGlvbigpLCB0Zl9jbGllbnQ9VEZDbGllbnQoZml4ZWRfZnJhbWU9dScvYmFzZV9mb290cHJpbnQnLCByb3M9Uk9TQ29ubmVjdGnigKY=\n"
      ]
     },
     "metadata": {},
     "output_type": "display_data"
    }
   ],
   "source": [
    "v"
   ]
  },
  {
   "cell_type": "markdown",
   "metadata": {},
   "source": [
    "### Sixth, change the visualization style (if required)"
   ]
  },
  {
   "cell_type": "markdown",
   "metadata": {},
   "source": [
    "Click on the next cell and then press `Shift+Enter` to activate the Python code."
   ]
  },
  {
   "cell_type": "code",
   "execution_count": 8,
   "metadata": {},
   "outputs": [],
   "source": [
    "marker_view.length = 0.5\n",
    "v.layout.height = '500px'"
   ]
  },
  {
   "cell_type": "markdown",
   "metadata": {},
   "source": [
    "### Play with the markers!"
   ]
  },
  {
   "cell_type": "markdown",
   "metadata": {},
   "source": [
    "Use the mouse to move the markers that appeared on the 3D viewer, using the mouse to move the blue circles, and seing how the path changes accordingly."
   ]
  }
 ],
 "metadata": {
  "kernelspec": {
   "display_name": "Python 2",
   "language": "python",
   "name": "python2"
  },
  "language_info": {
   "codemirror_mode": {
    "name": "ipython",
    "version": 2
   },
   "file_extension": ".py",
   "mimetype": "text/x-python",
   "name": "python",
   "nbconvert_exporter": "python",
   "pygments_lexer": "ipython2",
   "version": "2.7.16"
  }
 },
 "nbformat": 4,
 "nbformat_minor": 2
}
