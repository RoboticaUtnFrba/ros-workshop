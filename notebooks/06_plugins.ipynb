{
 "nbformat": 4,
 "nbformat_minor": 2,
 "metadata": {
  "language_info": {
   "name": "python",
   "codemirror_mode": {
    "name": "ipython",
    "version": 3
   }
  },
  "orig_nbformat": 2,
  "file_extension": ".py",
  "mimetype": "text/x-python",
  "name": "python",
  "npconvert_exporter": "python",
  "pygments_lexer": "ipython3",
  "version": 3
 },
 "cells": [
  {
   "cell_type": "markdown",
   "metadata": {},
   "source": [
    "# Plugins en Gazebo\n",
    "Cómo agregar funcionalidades al simulador.\n",
    "\n",
    "**Autor:** _Ing. Emiliano J. Borghi Orué_ (eborghiorue@frba.utn.edu.ar) \n",
    "\n",
    "![Banner](media/banner.png)\n"
   ]
  },
  {
   "cell_type": "markdown",
   "metadata": {},
   "source": [
    "# Plugins: que son?\n",
    "Los *plugins* son código de C++ que permite agregar funcionalidades a Gazebo, como podría ser un nuevo sensor o el comportamiento de un semáforo del ambiente.\n",
    "Gazebo tiene su propia *API* que podremos usar para ello. [Este es el link](http://osrf-distributions.s3.amazonaws.com/gazebo/api/9.0.0/index.html).\n",
    "\n",
    "# Que tipos de plugins hay disponibles?\n",
    "El paquete `gazebo_ros_pkgs` cuenta con un montón de sensores ya modelados que pueden agregarse directamente al robot. Algunos de estos son cámara, IMU, LiDAR, etc. La documentación pertinente se encuentra [aquí](http://gazebosim.org/tutorials?tut=ros_gzplugins).\n",
    "El `create_autonomy` usa algunos de esos plugins. Por ejemplo, la IMU se encuentra definida [aquí](https://github.com/RoboticaUtnFrba/create_autonomy/blob/kinetic-devel/ca_description/urdf/sensors/imu_sensor.xacro#L20-L29).\n",
    "\n",
    "También pueden crease plugins específicos para cada necesidad, pero requiere un poco más de trabajo hacerlos funcionar. En la [documentación de Gazebo](http://gazebosim.org/tutorials/?tut=plugins_hello_world) hay un poco de información acerca de esto pero no es suficiente.\n",
    "Para empezar es necesario crear el código en C++ que agregue la funcionalidad que necesitamos. Debido a la complejidad, no se ahondará en detalles, pero [aquí](https://github.com/RoboticaUtnFrba/create_autonomy/blob/kinetic-devel/ca_gazebo/src/traffic_light_plugin.cpp) hay un ejemplo de un semáforo.\n",
    "Como es código que necesita ser compilado para usarlo, se debe agregar al archivo `CMakeLists.txt` del paquete de ROS, como en [este caso](https://github.com/RoboticaUtnFrba/create_autonomy/blob/kinetic-devel/ca_gazebo/CMakeLists.txt#L169-L172).\n",
    "Por último, puede usarse como vimos anteriormente, pero para el caso mencionado como ejemplo, se usa [así](https://github.com/RoboticaUtnFrba/create_autonomy/blob/kinetic-devel/ca_gazebo/models/create_autorace/traffic_light/model.sdf#L16-L20).\n",
    "\n",
    "# Donde están los plugins?\n",
    "El repositorio cuenta con bastantes plugins creados a mano para casos especiales. Los [*archivos fuente* en un lugar](https://github.com/RoboticaUtnFrba/create_autonomy/tree/kinetic-devel/ca_gazebo/src), y las [*cabeceras* en otro](https://github.com/RoboticaUtnFrba/create_autonomy/tree/kinetic-devel/ca_gazebo/include/ca_gazebo).\n",
    "Cabe mencionar que no es necesario que tengan cabeceras. El plugin puede estar constituido por un único archivo fuente.\n",
    "\n",
    "# [Tipos de plugins](http://gazebosim.org/tutorials/?tut=plugins_hello_world#PluginTypes)\n",
    "Existen muchos tipos de plugins distintos pero nosotros usaremos solamente 3:\n",
    "- [World](http://gazebosim.org/tutorials?tut=plugins_world)\n",
    "- [Model](http://gazebosim.org/tutorials?tut=plugins_model&cat=write_plugin)\n",
    "- [Sensor](http://gazebosim.org/tutorials?tut=contact_sensor)\n",
    "\n",
    "Cada uno tiene su propósito y uno particular. El semáforo, por ejemplo, es una plugin del tipo *World* debido a que es usado para modificar el ambiente de Gazebo, como lo es un semáforo. Un modelo que no es el robot mismo.\n",
    "La IMU en cambio o un sensor de contacto, pueden modelarse como sensores, pero en caso de que estos necesiten obtener información a la que no pueden acceder (y necesitan para funcionar), como la pose del robot o de otro modelo, suelen usarse *Model* debido a que tienen una API más extensa."
   ]
  }
 ]
}